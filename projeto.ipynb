{
 "cells": [
  {
   "cell_type": "code",
   "execution_count": null,
   "metadata": {},
   "outputs": [],
   "source": [
    "import pandas as pd\n",
    "df=pd.read_csv('P1.csv')\n",
    "pd.set_option('display.max_columns', None)\n",
    "df.head()"
   ]
  },
  {
   "cell_type": "code",
   "execution_count": null,
   "metadata": {},
   "outputs": [],
   "source": [
    "df.shape"
   ]
  },
  {
   "cell_type": "code",
   "execution_count": null,
   "metadata": {},
   "outputs": [],
   "source": [
    "df.columns"
   ]
  },
  {
   "cell_type": "code",
   "execution_count": null,
   "metadata": {},
   "outputs": [],
   "source": [
    "df.info()"
   ]
  },
  {
   "cell_type": "code",
   "execution_count": null,
   "metadata": {},
   "outputs": [],
   "source": [
    "df.isnull().sum()"
   ]
  },
  {
   "cell_type": "code",
   "execution_count": null,
   "metadata": {},
   "outputs": [],
   "source": [
    "import seaborn as sns\n",
    "plt.figure(figsize=(12, 12))\n",
    "sns.boxplot(data=df)\n",
    "plt.xticks(rotation=90)  # Rotaciona os rótulos do eixo x para melhor visualização\n",
    "plt.show()"
   ]
  },
  {
   "cell_type": "code",
   "execution_count": null,
   "metadata": {},
   "outputs": [],
   "source": [
    "def find_outliers_iqr(data):\n",
    "    outliers_dict = {}\n",
    "    for column in data.columns:\n",
    "        if data[column].dtype in ['int64', 'float64']:  \n",
    "            Q1 = data[column].quantile(0.25)\n",
    "            Q3 = data[column].quantile(0.75)\n",
    "            IQR = Q3 - Q1\n",
    "            lower_bound = Q1 - 1.5 * IQR\n",
    "            upper_bound = Q3 + 1.5 * IQR\n",
    "            outliers = data[(data[column] < lower_bound) | (data[column] > upper_bound)]\n",
    "            outliers_dict[column] = outliers[column]\n",
    "    return outliers_dict\n",
    "\n",
    "outliers = find_outliers_iqr(df)\n",
    "\n",
    "for column, outliers_data in outliers.items():\n",
    "    print(f\"Outliers na coluna '{column}':\")\n",
    "    print(outliers_data)\n",
    "    print(\"\\n\")"
   ]
  },
  {
   "cell_type": "markdown",
   "metadata": {},
   "source": [
    "#### Criação Label"
   ]
  },
  {
   "cell_type": "code",
   "execution_count": null,
   "metadata": {},
   "outputs": [],
   "source": [
    "df['erro_x'] =df['Approx_x']-df['True_x'] \n",
    "df['erro_y']=df['Approx_y']-df['True_y'] \n",
    "df['erro_z']=df['Approx_z']-df['True_z']\n",
    "df['erro_vx']=df['Approx_vx']-df['True_vx']\n",
    "df['erro_vy']=df['Approx_vy']-df['True_vy']\n",
    "df['erro_vz']=df['Approx_vz']-df['True_vz']"
   ]
  },
  {
   "cell_type": "code",
   "execution_count": null,
   "metadata": {},
   "outputs": [],
   "source": [
    "df.head()"
   ]
  },
  {
   "cell_type": "code",
   "execution_count": null,
   "metadata": {},
   "outputs": [],
   "source": [
    "df_time_0 = df[df['Time'] == 0].head(5)\n",
    "df_time_0 "
   ]
  },
  {
   "cell_type": "code",
   "execution_count": 48,
   "metadata": {},
   "outputs": [
    {
     "name": "stdout",
     "output_type": "stream",
     "text": [
      "Fold 0:\n",
      "  Train: index=[    0     1     2 ... 80637 80638 80639], group=0              0.0\n",
      "1              0.0\n",
      "2              0.0\n",
      "3              0.0\n",
      "4              0.0\n",
      "           ...    \n",
      "80635    1684800.0\n",
      "80636    1684800.0\n",
      "80637    1684800.0\n",
      "80638    1684800.0\n",
      "80639    1684800.0\n",
      "Name: Time, Length: 64512, dtype: float64\n",
      "  Test:  index=[ 8064  8065  8066 ... 76605 76606 76607], group=8064      172800.0\n",
      "8065      172800.0\n",
      "8066      172800.0\n",
      "8067      172800.0\n",
      "8068      172800.0\n",
      "           ...    \n",
      "76603    1598400.0\n",
      "76604    1598400.0\n",
      "76605    1598400.0\n",
      "76606    1598400.0\n",
      "76607    1598400.0\n",
      "Name: Time, Length: 16128, dtype: float64\n"
     ]
    }
   ],
   "source": [
    "from sklearn.model_selection import train_test_split\n",
    "from sklearn.preprocessing import PolynomialFeatures\n",
    "\n",
    "columns_to_select = ['Delta_t', 'c1_z', 'c1_t', 'c2_z', 'c2_t', 'c3_z', 'c3_t', 'c4_z', 'c4_t', 'c5_z', 'c5_t', 'erro_z'\n",
    "                     ]#'c1_x', 'c2_x', 'c3_x', 'c4_x', 'c5_x', 'c1_y', 'c2_y', 'c3_y', 'c4_y', 'c5_y']\n",
    "selected_columns_df = df[columns_to_select]\n",
    "\n",
    "X = selected_columns_df[['Delta_t', 'c1_z', 'c1_t', 'c2_z', 'c2_t', 'c3_z', 'c3_t', 'c4_z', 'c4_t', 'c5_z', 'c5_t'\n",
    "                         ]]#'c1_x', 'c2_x', 'c3_x', 'c4_x', 'c5_x', 'c1_y', 'c2_y', 'c3_y', 'c4_y', 'c5_y']]\n",
    "poly = PolynomialFeatures(degree=5, include_bias=False)\n",
    "\n",
    "y = selected_columns_df['erro_z']\n",
    "\n",
    "#X_train, X_test, y_train, y_test = train_test_split(X, y, test_size=0.2, random_state=42)\n",
    "\n",
    "from sklearn.model_selection import GroupShuffleSplit\n",
    "groups=df['Time']\n",
    "gss = GroupShuffleSplit(n_splits=1, test_size=.2, random_state=42)\n",
    "for i, (train_index, test_index) in enumerate(gss.split(X, y, groups)):\n",
    "    print(f\"Fold {i}:\")\n",
    "    print(f\"  Train: index={train_index}, group={groups[train_index]}\")\n",
    "    print(f\"  Test:  index={test_index}, group={groups[test_index]}\")\n",
    "\n",
    "X_train=X.iloc[train_index]\n",
    "X_test=X.iloc[test_index]\n",
    "y_train=y.iloc[train_index]\n",
    "y_test=y.iloc[test_index]\n"
   ]
  },
  {
   "cell_type": "code",
   "execution_count": 49,
   "metadata": {},
   "outputs": [
    {
     "data": {
      "text/plain": [
       "(16128, 4367)"
      ]
     },
     "execution_count": 49,
     "metadata": {},
     "output_type": "execute_result"
    }
   ],
   "source": [
    "from sklearn.preprocessing import StandardScaler\n",
    "\n",
    "\n",
    "X_train_poly=poly.fit_transform(X_train)\n",
    "X_test_poly=poly.transform(X_test)\n",
    "\n",
    "scaler = StandardScaler()\n",
    "X_train_norm = scaler.fit_transform(X_train_poly)\n",
    "X_test_norm = scaler.transform(X_test_poly)\n",
    "X_test_norm.shape\n",
    "\n"
   ]
  },
  {
   "cell_type": "code",
   "execution_count": 50,
   "metadata": {},
   "outputs": [],
   "source": [
    "from sklearn.linear_model import LinearRegression\n",
    "from sklearn.ensemble import RandomForestRegressor\n",
    "from sklearn.tree import DecisionTreeRegressor\n",
    "import xgboost as xgb\n",
    "\n",
    "def regressao_linear(X_train_norm,y_train):\n",
    "    model = LinearRegression()\n",
    "    model.fit(X_train_norm, y_train)\n",
    "    return model\n",
    "\n",
    "def RandomForest(X_train_norm, y_train, n_estimators=50):\n",
    "    model=RandomForestRegressor(n_estimators=n_estimators, random_state=42)\n",
    "    model.fit(X_train_norm, y_train)\n",
    "    return model\n",
    "\n",
    "def ada_boost(X_train_norm, y_train):\n",
    "    model = AdaBoostRegressor()\n",
    "    model.fit(X_train_norm,y_train)\n",
    "    return model\n",
    "\n",
    "def decision_tree(X_train_norm,y_train, max_depth=5):\n",
    "    model = DecisionTreeRegressor(max_depth=max_depth, random_state=42)\n",
    "    model.fit(X_train_norm,y_train)\n",
    "    return model\n",
    "\n",
    "def xboost(X_train_norm, y_train):\n",
    "    model=xgb.XGBRegressor() \n",
    "    model.fit(X_train_norm, y_train)\n",
    "    return model\n",
    "\n",
    "\n",
    "resultado_reg=regressao_linear(X_train_norm, y_train)\n",
    "# resultado_randomForest=RandomForest(X_train_norm, y_train)\n",
    "# resultado_adaBoost=ada_boost(X_train_norm, y_train)\n",
    "# resultado_decisionTree=decision_tree(X_train_norm, y_train)\n",
    "#resultado_xboost=xboost(X_train_norm, y_train)\n",
    "\n",
    "# dict_modelos={'Regressao':resultado_reg, \n",
    "#               'Random Forest':resultado_randomForest, \n",
    "#               'Ada Boost':resultado_adaBoost, \n",
    "#               'Decision Tree':resultado_decisionTree}\n",
    "\n"
   ]
  },
  {
   "cell_type": "code",
   "execution_count": 51,
   "metadata": {},
   "outputs": [],
   "source": [
    "from sklearn.metrics import mean_squared_error\n",
    "predict=resultado_reg.predict(X_test_norm)\n",
    "# for modelo in dict_modelos.values:\n",
    "#     predict=modelo.predict(X_test_norm)\n",
    "#     print(predict)\n",
    "#     mse= mean_squared_error(y_test, predict)\n",
    "    \n"
   ]
  },
  {
   "cell_type": "code",
   "execution_count": 52,
   "metadata": {},
   "outputs": [
    {
     "data": {
      "text/html": [
       "<div>\n",
       "<style scoped>\n",
       "    .dataframe tbody tr th:only-of-type {\n",
       "        vertical-align: middle;\n",
       "    }\n",
       "\n",
       "    .dataframe tbody tr th {\n",
       "        vertical-align: top;\n",
       "    }\n",
       "\n",
       "    .dataframe thead th {\n",
       "        text-align: right;\n",
       "    }\n",
       "</style>\n",
       "<table border=\"1\" class=\"dataframe\">\n",
       "  <thead>\n",
       "    <tr style=\"text-align: right;\">\n",
       "      <th></th>\n",
       "      <th>Predições</th>\n",
       "      <th>Actuals</th>\n",
       "    </tr>\n",
       "  </thead>\n",
       "  <tbody>\n",
       "    <tr>\n",
       "      <th>8064</th>\n",
       "      <td>-1.925963</td>\n",
       "      <td>0.000000</td>\n",
       "    </tr>\n",
       "    <tr>\n",
       "      <th>8065</th>\n",
       "      <td>1.081728</td>\n",
       "      <td>0.001666</td>\n",
       "    </tr>\n",
       "    <tr>\n",
       "      <th>8066</th>\n",
       "      <td>-8.483484</td>\n",
       "      <td>0.006649</td>\n",
       "    </tr>\n",
       "    <tr>\n",
       "      <th>8067</th>\n",
       "      <td>-15.981850</td>\n",
       "      <td>0.014584</td>\n",
       "    </tr>\n",
       "    <tr>\n",
       "      <th>8068</th>\n",
       "      <td>22.712145</td>\n",
       "      <td>0.024601</td>\n",
       "    </tr>\n",
       "  </tbody>\n",
       "</table>\n",
       "</div>"
      ],
      "text/plain": [
       "      Predições   Actuals\n",
       "8064  -1.925963  0.000000\n",
       "8065   1.081728  0.001666\n",
       "8066  -8.483484  0.006649\n",
       "8067 -15.981850  0.014584\n",
       "8068  22.712145  0.024601"
      ]
     },
     "execution_count": 52,
     "metadata": {},
     "output_type": "execute_result"
    }
   ],
   "source": [
    "real=y_test\n",
    "previsto=predict\n",
    "delta=selected_columns_df['Delta_t']\n",
    "real.shape, previsto.shape, delta.shape\n",
    "df_reg=pd.DataFrame(data={'Predições':previsto, 'Actuals':real})\n",
    "df_reg.head()\n",
    "\n"
   ]
  },
  {
   "cell_type": "code",
   "execution_count": 56,
   "metadata": {},
   "outputs": [
    {
     "name": "stdout",
     "output_type": "stream",
     "text": [
      "Mean Squared Error (MSE): 4337.128392423861\n",
      "RMSE:65.85687809503166\n",
      "Mean Real: 0.05998003797358332\n",
      "RMSE em relação à média dos valores reais: 109797.99%\n"
     ]
    }
   ],
   "source": [
    "from sklearn.metrics import mean_squared_error\n",
    "import numpy as np\n",
    "mse = mean_squared_error(y_test, predict)\n",
    "\n",
    "print(\"Mean Squared Error (MSE):\", mse) #255125.98119969724\n",
    "                                        # ^2 : 77724.16844499519\n",
    "                                        # ^5: 50284.25539719081\n",
    "                                        # xboost ^5:65159\n",
    "                                        # Reg ^5: 65365\n",
    "                                        # xboost x+y : 36621\n",
    "                                        # regressao: x+y: 269544\n",
    "                                        # regressao ^5 z: 4337\n",
    "                                        # z: x+y : 4038\n",
    "                                        # z: 4037\n",
    "                                        \n",
    "print(f'RMSE:{rmse}')\n",
    "rmse = np.sqrt(mse)\n",
    "max_real = df_reg['Actuals'].max\n",
    "print(f'Mean Real: {mean_real}')\n",
    "rmse_percentage = (rmse / mean_real) * 100\n",
    "print(f\"RMSE em relação à média dos valores reais: {rmse_percentage:.2f}%\")\n",
    "                                        "
   ]
  },
  {
   "cell_type": "code",
   "execution_count": null,
   "metadata": {},
   "outputs": [],
   "source": [
    "import matplotlib.pyplot as plt\n",
    "\n",
    "num_samples = 16128\n",
    "delta_t = X_test['Delta_t'][:num_samples]\n",
    "real = df_reg['Actuals'][:num_samples]\n",
    "previsto = df_reg['Predições'][:num_samples]\n",
    "\n",
    "plt.figure(figsize=(12, 6))\n",
    "plt.scatter(delta_t, real, color='orange', label='Real', marker='o')\n",
    "plt.scatter(delta_t, previsto, color='blue', label='Predições', marker='x')\n",
    "\n",
    "\n",
    "plt.xlabel('Delta_t')\n",
    "plt.ylabel('Valores')\n",
    "plt.title('Valores Reais vs. Valores Previstos')\n",
    "plt.legend()\n",
    "\n",
    "\n",
    "plt.grid(True)\n",
    "plt.show()"
   ]
  }
 ],
 "metadata": {
  "kernelspec": {
   "display_name": "Python 3",
   "language": "python",
   "name": "python3"
  },
  "language_info": {
   "codemirror_mode": {
    "name": "ipython",
    "version": 3
   },
   "file_extension": ".py",
   "mimetype": "text/x-python",
   "name": "python",
   "nbconvert_exporter": "python",
   "pygments_lexer": "ipython3",
   "version": "3.10.11"
  }
 },
 "nbformat": 4,
 "nbformat_minor": 2
}
