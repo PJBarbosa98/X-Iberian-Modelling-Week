{
 "cells": [
  {
   "cell_type": "markdown",
   "id": "9243de15-f92c-4b93-a703-e4bbfc310fcf",
   "metadata": {},
   "source": [
    "# Improving Orbit Propagation of Space Objects"
   ]
  },
  {
   "cell_type": "code",
   "execution_count": null,
   "id": "d06ccc28-3387-4225-9212-f76c093296cc",
   "metadata": {},
   "outputs": [],
   "source": [
    "# Libraries:\n",
    "import os\n",
    "import torch\n",
    "import numpy as np\n",
    "import pandas as pd\n",
    "import matplotlib.pyplot as plt\n",
    "%matplotlib inline\n",
    "\n",
    "# Loading Data:\n",
    "def load_data (data_id = \"31698\", coor_type = \"XYZ\"):\n",
    "    if data_id not in [\"31698\", \"31722\", \"36605\", \"40309\"]:\n",
    "        raise ValueError(\"Invalid `data_id` value.\")\n",
    "    if coor_type not in [\"XYZ\", \"RTN\"]:\n",
    "        raise ValueError(\"Invalid `coor_type` value.\")\n",
    "    full_dir = os.path.join(\"./Dataset\", data_id, coor_type, \"P1.csv\")\n",
    "    return pd.read_csv(full_dir)\n",
    "\n",
    "# Visualisation:\n",
    "df = load_data(coor_type = \"RTN\")\n",
    "\n",
    "# Remove `Unnamed: 0` Column:\n",
    "df.drop(\"Unnamed: 0\", axis = \"columns\", inplace = True)"
   ]
  },
  {
   "cell_type": "code",
   "execution_count": null,
   "id": "377c7c2c-de35-45cd-b201-0ceaab49bdca",
   "metadata": {},
   "outputs": [],
   "source": [
    "def plot_errors (df = df, target_time = 0.0):\n",
    "    if target_time not in df[\"Time\"].unique():\n",
    "        raise ValueError(\"Invalid `target_time` value.\")\n",
    "    # Filter by `Time` = target_time.\n",
    "    df_filter = df[df[\"Time\"] == target_time]\n",
    "    # Create subplots.\n",
    "    fig, axs = plt.subplots(1, 3, figsize = (15, 5))\n",
    "    # Plot differences:\n",
    "    for idx, coord in enumerate([\"x\", \"y\", \"z\"]):\n",
    "        true_val = \"True_\" + coord\n",
    "        pred_val = \"Approx_\" + coord\n",
    "        axs[idx].plot(\n",
    "            df_filter[\"Delta_t\"], df_filter[true_val] - df_filter[pred_val],\n",
    "            label = \"Error in \" + coord\n",
    "        )\n",
    "        axs[idx].set_xlabel(\"dt\")\n",
    "        axs[idx].set_ylabel(\"Error\")\n",
    "        axs[idx].set_title(\"Error in \" + coord)\n",
    "        axs[idx].legend()\n",
    "    plt.show()\n",
    "\n",
    "plot_errors()"
   ]
  },
  {
   "cell_type": "code",
   "execution_count": null,
   "id": "5911dc95-ed0d-42f6-9dbf-9f00a474169f",
   "metadata": {},
   "outputs": [],
   "source": [
    "# Replace `True` and `Approx` Columns by their Error:\n",
    "for coord in [\"x\", \"y\", \"z\"]:\n",
    "    # Create Error Columns:\n",
    "    true_name = \"True_\" + coord\n",
    "    pred_name = \"Approx_\" + coord\n",
    "    error_name = \"Error_\" + coord\n",
    "    df[error_name] = df[true_name] - df[pred_name]\n",
    "    # Drop `True` and `Approx` Columns:\n",
    "    df.drop(true_name, axis = \"columns\", inplace = True)\n",
    "    df.drop(pred_name, axis = \"columns\", inplace = True)\n",
    "\n",
    "# Remove `Time` Column:\n",
    "df.drop(\"Time\", axis = \"columns\", inplace = True)"
   ]
  },
  {
   "cell_type": "code",
   "execution_count": null,
   "id": "7e677510-6966-40f3-89fe-1f1f6e23b8c3",
   "metadata": {},
   "outputs": [],
   "source": []
  }
 ],
 "metadata": {
  "kernelspec": {
   "display_name": "Python 3 (ipykernel)",
   "language": "python",
   "name": "python3"
  },
  "language_info": {
   "codemirror_mode": {
    "name": "ipython",
    "version": 3
   },
   "file_extension": ".py",
   "mimetype": "text/x-python",
   "name": "python",
   "nbconvert_exporter": "python",
   "pygments_lexer": "ipython3",
   "version": "3.10.6"
  }
 },
 "nbformat": 4,
 "nbformat_minor": 5
}
